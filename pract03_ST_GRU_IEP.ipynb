{
 "nbformat": 4,
 "nbformat_minor": 0,
 "metadata": {
  "colab": {
   "provenance": [],
   "machine_shape": "hm",
   "gpuType": "T4"
  },
  "kernelspec": {
   "name": "python3",
   "display_name": "Python 3"
  },
  "language_info": {
   "name": "python"
  },
  "accelerator": "GPU"
 },
 "cells": [
  {
   "cell_type": "code",
   "metadata": {
    "id": "dybxfnItQyzb",
    "jupyter": {
     "is_executing": true
    }
   },
   "source": [
    "# Librerías necesarias\n",
    "import pandas as pd\n",
    "import numpy as np\n",
    "from sklearn.preprocessing import MinMaxScaler\n",
    "from sklearn.model_selection import train_test_split\n",
    "import tensorflow as tf\n",
    "from tensorflow.keras.models import Sequential\n",
    "from tensorflow.keras.layers import Dense, LSTM\n",
    "from tensorflow.keras.layers import SimpleRNN\n",
    "import matplotlib.pyplot as plt\n",
    "from tensorflow.keras.layers import GRU"
   ],
   "outputs": [],
   "execution_count": null
  },
  {
   "cell_type": "code",
   "source": [
    "from google.colab import drive\n",
    "drive.mount('/content/drive')\n",
    "# Directorio que contiene las carpetas de entrenamiento y prueba\n",
    "dataset_path = \"drive/MyDrive/\""
   ],
   "metadata": {
    "colab": {
     "base_uri": "https://localhost:8080/"
    },
    "id": "1ROZqCEXQ60e",
    "outputId": "a3a514da-08b8-458b-f7b9-9f130a991dda",
    "jupyter": {
     "is_executing": true
    }
   },
   "outputs": [],
   "execution_count": null
  },
  {
   "cell_type": "code",
   "source": [
    "# Cargar los datos\n",
    "file_path = 'ads.csv'  # Cambia este nombre si tu archivo tiene otro nombre\n",
    "ads_data = pd.read_csv(dataset_path+file_path)"
   ],
   "metadata": {
    "id": "h4U5v3jBQ6xK",
    "jupyter": {
     "is_executing": true
    }
   },
   "outputs": [],
   "execution_count": null
  },
  {
   "cell_type": "code",
   "source": [
    "# Preprocesamiento\n",
    "ads_data['Time'] = pd.to_datetime(ads_data['Time'])  # Convertir Time a datetime\n",
    "scaler = MinMaxScaler()\n",
    "ads_data['Scaled_Ads'] = scaler.fit_transform(ads_data[['Ads']])"
   ],
   "metadata": {
    "id": "as3fo7thQ6uR"
   },
   "execution_count": 5,
   "outputs": []
  },
  {
   "cell_type": "code",
   "source": [
    "# Dividir los datos\n",
    "train_data, val_data = train_test_split(ads_data, test_size=0.2, shuffle=False)"
   ],
   "metadata": {
    "id": "aXlxWhq7Q6rK"
   },
   "execution_count": 6,
   "outputs": []
  },
  {
   "cell_type": "code",
   "source": [
    "# Funcion Crear secuencias\n",
    "def create_sequences(data, sequence_length=10):\n",
    "    x, y = [], []\n",
    "    for i in range(len(data) - sequence_length):\n",
    "        x.append(data[i:i+sequence_length])\n",
    "        y.append(data[i+sequence_length])\n",
    "    return np.array(x), np.array(y)"
   ],
   "metadata": {
    "id": "r0gnyZK0Q6nx"
   },
   "execution_count": 7,
   "outputs": []
  },
  {
   "cell_type": "code",
   "source": [
    "sequence_length = 10\n",
    "train_scaled = train_data['Scaled_Ads'].values\n",
    "val_scaled = val_data['Scaled_Ads'].values"
   ],
   "metadata": {
    "id": "b2Zj3T3YQ6kd"
   },
   "execution_count": 8,
   "outputs": []
  },
  {
   "cell_type": "code",
   "source": [
    "X_train, y_train = create_sequences(train_scaled, sequence_length)\n",
    "X_val, y_val = create_sequences(val_scaled, sequence_length)\n",
    "\n",
    "X_train = X_train.reshape((X_train.shape[0], X_train.shape[1], 1))\n",
    "X_val = X_val.reshape((X_val.shape[0], X_val.shape[1], 1))"
   ],
   "metadata": {
    "id": "8yUlTWfdQ6hU"
   },
   "execution_count": 9,
   "outputs": []
  },
  {
   "cell_type": "code",
   "source": [
    "# Construcción del modelo GRU\n",
    "gru_model = Sequential([\n",
    "    GRU(50, activation='relu', return_sequences=True, input_shape=(sequence_length, 1)),  # Primera capa GRU\n",
    "    GRU(30, activation='relu'),  # Segunda capa GRU\n",
    "    Dense(1)  # Capa de salida\n",
    "])"
   ],
   "metadata": {
    "colab": {
     "base_uri": "https://localhost:8080/"
    },
    "id": "HKgHMmZXRQgj",
    "outputId": "aea66257-8624-434a-daf9-c05439c83631"
   },
   "execution_count": 10,
   "outputs": [
    {
     "output_type": "stream",
     "name": "stderr",
     "text": [
      "/usr/local/lib/python3.10/dist-packages/keras/src/layers/rnn/rnn.py:204: UserWarning: Do not pass an `input_shape`/`input_dim` argument to a layer. When using Sequential models, prefer using an `Input(shape)` object as the first layer in the model instead.\n",
      "  super().__init__(**kwargs)\n"
     ]
    }
   ]
  },
  {
   "cell_type": "code",
   "source": [
    "# Compilación del modelo\n",
    "gru_model.compile(optimizer='adam', loss='mse', metrics=['mae'])"
   ],
   "metadata": {
    "id": "PE_TNO1cRQda"
   },
   "execution_count": 11,
   "outputs": []
  },
  {
   "cell_type": "code",
   "source": [
    "# Resumen del modelo\n",
    "gru_model.summary()"
   ],
   "metadata": {
    "colab": {
     "base_uri": "https://localhost:8080/",
     "height": 225
    },
    "id": "MtGO5imcRQau",
    "outputId": "e3885f4c-8960-4ac2-ed58-4d21fc77356d"
   },
   "execution_count": 12,
   "outputs": [
    {
     "output_type": "display_data",
     "data": {
      "text/plain": [
       "\u001B[1mModel: \"sequential\"\u001B[0m\n"
      ],
      "text/html": [
       "<pre style=\"white-space:pre;overflow-x:auto;line-height:normal;font-family:Menlo,'DejaVu Sans Mono',consolas,'Courier New',monospace\"><span style=\"font-weight: bold\">Model: \"sequential\"</span>\n",
       "</pre>\n"
      ]
     },
     "metadata": {}
    },
    {
     "output_type": "display_data",
     "data": {
      "text/plain": [
       "┏━━━━━━━━━━━━━━━━━━━━━━━━━━━━━━━━━━━━━━┳━━━━━━━━━━━━━━━━━━━━━━━━━━━━━┳━━━━━━━━━━━━━━━━━┓\n",
       "┃\u001B[1m \u001B[0m\u001B[1mLayer (type)                        \u001B[0m\u001B[1m \u001B[0m┃\u001B[1m \u001B[0m\u001B[1mOutput Shape               \u001B[0m\u001B[1m \u001B[0m┃\u001B[1m \u001B[0m\u001B[1m        Param #\u001B[0m\u001B[1m \u001B[0m┃\n",
       "┡━━━━━━━━━━━━━━━━━━━━━━━━━━━━━━━━━━━━━━╇━━━━━━━━━━━━━━━━━━━━━━━━━━━━━╇━━━━━━━━━━━━━━━━━┩\n",
       "│ gru (\u001B[38;5;33mGRU\u001B[0m)                            │ (\u001B[38;5;45mNone\u001B[0m, \u001B[38;5;34m10\u001B[0m, \u001B[38;5;34m50\u001B[0m)              │           \u001B[38;5;34m7,950\u001B[0m │\n",
       "├──────────────────────────────────────┼─────────────────────────────┼─────────────────┤\n",
       "│ gru_1 (\u001B[38;5;33mGRU\u001B[0m)                          │ (\u001B[38;5;45mNone\u001B[0m, \u001B[38;5;34m30\u001B[0m)                  │           \u001B[38;5;34m7,380\u001B[0m │\n",
       "├──────────────────────────────────────┼─────────────────────────────┼─────────────────┤\n",
       "│ dense (\u001B[38;5;33mDense\u001B[0m)                        │ (\u001B[38;5;45mNone\u001B[0m, \u001B[38;5;34m1\u001B[0m)                   │              \u001B[38;5;34m31\u001B[0m │\n",
       "└──────────────────────────────────────┴─────────────────────────────┴─────────────────┘\n"
      ],
      "text/html": [
       "<pre style=\"white-space:pre;overflow-x:auto;line-height:normal;font-family:Menlo,'DejaVu Sans Mono',consolas,'Courier New',monospace\">┏━━━━━━━━━━━━━━━━━━━━━━━━━━━━━━━━━━━━━━┳━━━━━━━━━━━━━━━━━━━━━━━━━━━━━┳━━━━━━━━━━━━━━━━━┓\n",
       "┃<span style=\"font-weight: bold\"> Layer (type)                         </span>┃<span style=\"font-weight: bold\"> Output Shape                </span>┃<span style=\"font-weight: bold\">         Param # </span>┃\n",
       "┡━━━━━━━━━━━━━━━━━━━━━━━━━━━━━━━━━━━━━━╇━━━━━━━━━━━━━━━━━━━━━━━━━━━━━╇━━━━━━━━━━━━━━━━━┩\n",
       "│ gru (<span style=\"color: #0087ff; text-decoration-color: #0087ff\">GRU</span>)                            │ (<span style=\"color: #00d7ff; text-decoration-color: #00d7ff\">None</span>, <span style=\"color: #00af00; text-decoration-color: #00af00\">10</span>, <span style=\"color: #00af00; text-decoration-color: #00af00\">50</span>)              │           <span style=\"color: #00af00; text-decoration-color: #00af00\">7,950</span> │\n",
       "├──────────────────────────────────────┼─────────────────────────────┼─────────────────┤\n",
       "│ gru_1 (<span style=\"color: #0087ff; text-decoration-color: #0087ff\">GRU</span>)                          │ (<span style=\"color: #00d7ff; text-decoration-color: #00d7ff\">None</span>, <span style=\"color: #00af00; text-decoration-color: #00af00\">30</span>)                  │           <span style=\"color: #00af00; text-decoration-color: #00af00\">7,380</span> │\n",
       "├──────────────────────────────────────┼─────────────────────────────┼─────────────────┤\n",
       "│ dense (<span style=\"color: #0087ff; text-decoration-color: #0087ff\">Dense</span>)                        │ (<span style=\"color: #00d7ff; text-decoration-color: #00d7ff\">None</span>, <span style=\"color: #00af00; text-decoration-color: #00af00\">1</span>)                   │              <span style=\"color: #00af00; text-decoration-color: #00af00\">31</span> │\n",
       "└──────────────────────────────────────┴─────────────────────────────┴─────────────────┘\n",
       "</pre>\n"
      ]
     },
     "metadata": {}
    },
    {
     "output_type": "display_data",
     "data": {
      "text/plain": [
       "\u001B[1m Total params: \u001B[0m\u001B[38;5;34m15,361\u001B[0m (60.00 KB)\n"
      ],
      "text/html": [
       "<pre style=\"white-space:pre;overflow-x:auto;line-height:normal;font-family:Menlo,'DejaVu Sans Mono',consolas,'Courier New',monospace\"><span style=\"font-weight: bold\"> Total params: </span><span style=\"color: #00af00; text-decoration-color: #00af00\">15,361</span> (60.00 KB)\n",
       "</pre>\n"
      ]
     },
     "metadata": {}
    },
    {
     "output_type": "display_data",
     "data": {
      "text/plain": [
       "\u001B[1m Trainable params: \u001B[0m\u001B[38;5;34m15,361\u001B[0m (60.00 KB)\n"
      ],
      "text/html": [
       "<pre style=\"white-space:pre;overflow-x:auto;line-height:normal;font-family:Menlo,'DejaVu Sans Mono',consolas,'Courier New',monospace\"><span style=\"font-weight: bold\"> Trainable params: </span><span style=\"color: #00af00; text-decoration-color: #00af00\">15,361</span> (60.00 KB)\n",
       "</pre>\n"
      ]
     },
     "metadata": {}
    },
    {
     "output_type": "display_data",
     "data": {
      "text/plain": [
       "\u001B[1m Non-trainable params: \u001B[0m\u001B[38;5;34m0\u001B[0m (0.00 B)\n"
      ],
      "text/html": [
       "<pre style=\"white-space:pre;overflow-x:auto;line-height:normal;font-family:Menlo,'DejaVu Sans Mono',consolas,'Courier New',monospace\"><span style=\"font-weight: bold\"> Non-trainable params: </span><span style=\"color: #00af00; text-decoration-color: #00af00\">0</span> (0.00 B)\n",
       "</pre>\n"
      ]
     },
     "metadata": {}
    }
   ]
  },
  {
   "cell_type": "code",
   "source": [
    "# Entrenamiento del modelo\n",
    "gru_history = gru_model.fit(X_train, y_train, epochs=20, batch_size=16, validation_data=(X_val, y_val))"
   ],
   "metadata": {
    "colab": {
     "base_uri": "https://localhost:8080/"
    },
    "id": "GI3Ky1eARQXm",
    "outputId": "9b536cd1-19a9-42d6-f5cf-0eccc64fa75d"
   },
   "execution_count": 13,
   "outputs": [
    {
     "output_type": "stream",
     "name": "stdout",
     "text": [
      "Epoch 1/20\n",
      "\u001B[1m11/11\u001B[0m \u001B[32m━━━━━━━━━━━━━━━━━━━━\u001B[0m\u001B[37m\u001B[0m \u001B[1m7s\u001B[0m 273ms/step - loss: 0.2818 - mae: 0.4635 - val_loss: 0.1287 - val_mae: 0.3059\n",
      "Epoch 2/20\n",
      "\u001B[1m11/11\u001B[0m \u001B[32m━━━━━━━━━━━━━━━━━━━━\u001B[0m\u001B[37m\u001B[0m \u001B[1m0s\u001B[0m 8ms/step - loss: 0.1155 - mae: 0.2881 - val_loss: 0.0581 - val_mae: 0.2138\n",
      "Epoch 3/20\n",
      "\u001B[1m11/11\u001B[0m \u001B[32m━━━━━━━━━━━━━━━━━━━━\u001B[0m\u001B[37m\u001B[0m \u001B[1m0s\u001B[0m 8ms/step - loss: 0.0650 - mae: 0.2254 - val_loss: 0.0689 - val_mae: 0.1994\n",
      "Epoch 4/20\n",
      "\u001B[1m11/11\u001B[0m \u001B[32m━━━━━━━━━━━━━━━━━━━━\u001B[0m\u001B[37m\u001B[0m \u001B[1m0s\u001B[0m 7ms/step - loss: 0.0663 - mae: 0.2099 - val_loss: 0.0511 - val_mae: 0.1952\n",
      "Epoch 5/20\n",
      "\u001B[1m11/11\u001B[0m \u001B[32m━━━━━━━━━━━━━━━━━━━━\u001B[0m\u001B[37m\u001B[0m \u001B[1m0s\u001B[0m 7ms/step - loss: 0.0515 - mae: 0.2015 - val_loss: 0.0470 - val_mae: 0.1916\n",
      "Epoch 6/20\n",
      "\u001B[1m11/11\u001B[0m \u001B[32m━━━━━━━━━━━━━━━━━━━━\u001B[0m\u001B[37m\u001B[0m \u001B[1m0s\u001B[0m 7ms/step - loss: 0.0538 - mae: 0.2095 - val_loss: 0.0466 - val_mae: 0.1835\n",
      "Epoch 7/20\n",
      "\u001B[1m11/11\u001B[0m \u001B[32m━━━━━━━━━━━━━━━━━━━━\u001B[0m\u001B[37m\u001B[0m \u001B[1m0s\u001B[0m 8ms/step - loss: 0.0485 - mae: 0.1913 - val_loss: 0.0451 - val_mae: 0.1773\n",
      "Epoch 8/20\n",
      "\u001B[1m11/11\u001B[0m \u001B[32m━━━━━━━━━━━━━━━━━━━━\u001B[0m\u001B[37m\u001B[0m \u001B[1m0s\u001B[0m 8ms/step - loss: 0.0388 - mae: 0.1694 - val_loss: 0.0407 - val_mae: 0.1738\n",
      "Epoch 9/20\n",
      "\u001B[1m11/11\u001B[0m \u001B[32m━━━━━━━━━━━━━━━━━━━━\u001B[0m\u001B[37m\u001B[0m \u001B[1m0s\u001B[0m 7ms/step - loss: 0.0366 - mae: 0.1696 - val_loss: 0.0374 - val_mae: 0.1681\n",
      "Epoch 10/20\n",
      "\u001B[1m11/11\u001B[0m \u001B[32m━━━━━━━━━━━━━━━━━━━━\u001B[0m\u001B[37m\u001B[0m \u001B[1m0s\u001B[0m 7ms/step - loss: 0.0368 - mae: 0.1693 - val_loss: 0.0355 - val_mae: 0.1592\n",
      "Epoch 11/20\n",
      "\u001B[1m11/11\u001B[0m \u001B[32m━━━━━━━━━━━━━━━━━━━━\u001B[0m\u001B[37m\u001B[0m \u001B[1m0s\u001B[0m 8ms/step - loss: 0.0339 - mae: 0.1602 - val_loss: 0.0333 - val_mae: 0.1516\n",
      "Epoch 12/20\n",
      "\u001B[1m11/11\u001B[0m \u001B[32m━━━━━━━━━━━━━━━━━━━━\u001B[0m\u001B[37m\u001B[0m \u001B[1m0s\u001B[0m 7ms/step - loss: 0.0308 - mae: 0.1525 - val_loss: 0.0291 - val_mae: 0.1459\n",
      "Epoch 13/20\n",
      "\u001B[1m11/11\u001B[0m \u001B[32m━━━━━━━━━━━━━━━━━━━━\u001B[0m\u001B[37m\u001B[0m \u001B[1m0s\u001B[0m 8ms/step - loss: 0.0293 - mae: 0.1501 - val_loss: 0.0268 - val_mae: 0.1367\n",
      "Epoch 14/20\n",
      "\u001B[1m11/11\u001B[0m \u001B[32m━━━━━━━━━━━━━━━━━━━━\u001B[0m\u001B[37m\u001B[0m \u001B[1m0s\u001B[0m 8ms/step - loss: 0.0243 - mae: 0.1363 - val_loss: 0.0244 - val_mae: 0.1268\n",
      "Epoch 15/20\n",
      "\u001B[1m11/11\u001B[0m \u001B[32m━━━━━━━━━━━━━━━━━━━━\u001B[0m\u001B[37m\u001B[0m \u001B[1m0s\u001B[0m 8ms/step - loss: 0.0225 - mae: 0.1211 - val_loss: 0.0194 - val_mae: 0.1225\n",
      "Epoch 16/20\n",
      "\u001B[1m11/11\u001B[0m \u001B[32m━━━━━━━━━━━━━━━━━━━━\u001B[0m\u001B[37m\u001B[0m \u001B[1m0s\u001B[0m 7ms/step - loss: 0.0224 - mae: 0.1272 - val_loss: 0.0306 - val_mae: 0.1377\n",
      "Epoch 17/20\n",
      "\u001B[1m11/11\u001B[0m \u001B[32m━━━━━━━━━━━━━━━━━━━━\u001B[0m\u001B[37m\u001B[0m \u001B[1m0s\u001B[0m 8ms/step - loss: 0.0226 - mae: 0.1250 - val_loss: 0.0164 - val_mae: 0.1064\n",
      "Epoch 18/20\n",
      "\u001B[1m11/11\u001B[0m \u001B[32m━━━━━━━━━━━━━━━━━━━━\u001B[0m\u001B[37m\u001B[0m \u001B[1m0s\u001B[0m 8ms/step - loss: 0.0161 - mae: 0.1033 - val_loss: 0.0153 - val_mae: 0.1035\n",
      "Epoch 19/20\n",
      "\u001B[1m11/11\u001B[0m \u001B[32m━━━━━━━━━━━━━━━━━━━━\u001B[0m\u001B[37m\u001B[0m \u001B[1m0s\u001B[0m 8ms/step - loss: 0.0202 - mae: 0.1174 - val_loss: 0.0223 - val_mae: 0.1195\n",
      "Epoch 20/20\n",
      "\u001B[1m11/11\u001B[0m \u001B[32m━━━━━━━━━━━━━━━━━━━━\u001B[0m\u001B[37m\u001B[0m \u001B[1m0s\u001B[0m 8ms/step - loss: 0.0174 - mae: 0.1044 - val_loss: 0.0136 - val_mae: 0.0971\n"
     ]
    }
   ]
  },
  {
   "cell_type": "code",
   "source": [
    "# Evaluación del modelo\n",
    "val_loss_gru, val_mae_gru = gru_model.evaluate(X_val, y_val)\n",
    "print(f\"Validation Loss: {val_loss_gru}, Validation MAE: {val_mae_gru}\")"
   ],
   "metadata": {
    "colab": {
     "base_uri": "https://localhost:8080/"
    },
    "id": "VoWYgeDKRQRL",
    "outputId": "39d6bf23-626a-498f-e48b-174b0b24cda0"
   },
   "execution_count": 14,
   "outputs": [
    {
     "output_type": "stream",
     "name": "stdout",
     "text": [
      "\u001B[1m2/2\u001B[0m \u001B[32m━━━━━━━━━━━━━━━━━━━━\u001B[0m\u001B[37m\u001B[0m \u001B[1m1s\u001B[0m 6ms/step - loss: 0.0138 - mae: 0.0981  \n",
      "Validation Loss: 0.013610170222818851, Validation MAE: 0.09713342040777206\n"
     ]
    }
   ]
  },
  {
   "cell_type": "code",
   "source": [
    "# Predicción con el modelo GRU\n",
    "gru_predictions = gru_model.predict(X_val)"
   ],
   "metadata": {
    "colab": {
     "base_uri": "https://localhost:8080/"
    },
    "id": "JLnfVFq3Q6VR",
    "outputId": "7755c8be-f816-4177-db91-57ba0e090a41"
   },
   "execution_count": 15,
   "outputs": [
    {
     "output_type": "stream",
     "name": "stdout",
     "text": [
      "\u001B[1m2/2\u001B[0m \u001B[32m━━━━━━━━━━━━━━━━━━━━\u001B[0m\u001B[37m\u001B[0m \u001B[1m1s\u001B[0m 522ms/step\n"
     ]
    }
   ]
  },
  {
   "cell_type": "code",
   "source": [
    "# Desescalado de las predicciones\n",
    "gru_predictions_descaled = scaler.inverse_transform(gru_predictions)\n",
    "y_val_descaled_gru = scaler.inverse_transform(y_val.reshape(-1, 1))"
   ],
   "metadata": {
    "id": "g6iqAy6WRnUI"
   },
   "execution_count": 16,
   "outputs": []
  },
  {
   "cell_type": "code",
   "source": [
    "# Visualización de los resultados\n",
    "plt.figure(figsize=(12, 6))\n",
    "plt.plot(y_val_descaled_gru, label='True Values')\n",
    "plt.plot(gru_predictions_descaled, label='GRU Predictions')\n",
    "plt.legend()\n",
    "plt.show()"
   ],
   "metadata": {
    "colab": {
     "base_uri": "https://localhost:8080/",
     "height": 527
    },
    "id": "SOuThoKCRnRP",
    "outputId": "5d3e853f-9ce2-4425-875b-662bb0d613ed"
   },
   "execution_count": 17,
   "outputs": [
    {
     "output_type": "display_data",
     "data": {
      "text/plain": [
       "<Figure size 1200x600 with 1 Axes>"
      ],
      "image/png": "[encoded data removed]"
     },
     "metadata": {}
    }
   ]
  },
  {
   "cell_type": "markdown",
   "source": [
    "Se implementó un modelo basado en redes neuronales recurrentes **GRU (Gated Recurrent Unit)** para la predicción de series temporales. Este tipo de arquitectura es altamente eficiente para manejar datos secuenciales, con menor complejidad computacional en comparación con las redes LSTM. Los resultados obtenidos fueron los siguientes:\n",
    "\n",
    "\t•\tPérdida en Entrenamiento (Loss): 0.0138\n",
    "\t•\tError Absoluto Medio (MAE) en Entrenamiento: 0.0981\n",
    "\t•\tPérdida en Validación (Validation Loss): 0.0136\n",
    "\t•\tMAE en Validación: 0.0971\n",
    "\n",
    "El MAE indica que el modelo presenta un error promedio del 9.8% en la escala normalizada. La proximidad de las métricas de validación y entrenamiento demuestra una buena generalización, lo que sugiere que el modelo es capaz de realizar predicciones precisas sobre datos no vistos sin signos de sobreajuste.\n",
    "\n",
    "La arquitectura con dos capas GRU permitió capturar eficazmente las relaciones temporales y las dinámicas inherentes a la serie. Esto se traduce en una mejora respecto a arquitecturas menos complejas como RNN estándar.\n",
    "\n",
    "En resumen, el modelo GRU es una solución eficiente y precisa para tareas de predicción de series temporales. Con los ajustes actuales, el modelo está listo para implementarse en escenarios prácticos o como base para un análisis más detallado."
   ],
   "metadata": {
    "id": "jLLfpP0gS2jB"
   }
  },
  {
   "cell_type": "code",
   "source": [],
   "metadata": {
    "id": "SjY21TuRRnOT"
   },
   "execution_count": null,
   "outputs": []
  },
  {
   "cell_type": "code",
   "source": [],
   "metadata": {
    "id": "3okqP36wRnLZ"
   },
   "execution_count": null,
   "outputs": []
  }
 ]
}
