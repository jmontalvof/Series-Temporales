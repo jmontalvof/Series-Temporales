
# Librerías necesarias
import pandas as pd
import numpy as np
from sklearn.preprocessing import MinMaxScaler
from sklearn.model_selection import train_test_split
import tensorflow as tf
from tensorflow.keras.models import Sequential
from tensorflow.keras.layers import Dense, LSTM

# Cargar los datos
file_path = 'ads.csv'  # Cambia este nombre si tu archivo tiene otro nombre
ads_data = pd.read_csv(file_path)

# Preprocesamiento
ads_data['Time'] = pd.to_datetime(ads_data['Time'])  # Convertir Time a datetime
scaler = MinMaxScaler()
ads_data['Scaled_Ads'] = scaler.fit_transform(ads_data[['Ads']])

# Dividir los datos
train_data, val_data = train_test_split(ads_data, test_size=0.2, shuffle=False)

# Crear secuencias
def create_sequences(data, sequence_length=10):
    x, y = [], []
    for i in range(len(data) - sequence_length):
        x.append(data[i:i+sequence_length])
        y.append(data[i+sequence_length])
    return np.array(x), np.array(y)

sequence_length = 10
train_scaled = train_data['Scaled_Ads'].values
val_scaled = val_data['Scaled_Ads'].values

X_train, y_train = create_sequences(train_scaled, sequence_length)
X_val, y_val = create_sequences(val_scaled, sequence_length)

X_train = X_train.reshape((X_train.shape[0], X_train.shape[1], 1))
X_val = X_val.reshape((X_val.shape[0], X_val.shape[1], 1))

# Modelo LSTM
model = Sequential([
    LSTM(50, activation='relu', input_shape=(sequence_length, 1)),
    Dense(1)
])

model.compile(optimizer='adam', loss='mse', metrics=['mae'])

# Entrenamiento del modelo
history = model.fit(X_train, y_train, epochs=20, batch_size=16, validation_data=(X_val, y_val))

# Evaluar el modelo
val_loss, val_mae = model.evaluate(X_val, y_val)
print(f"Validation Loss: {val_loss}, Validation MAE: {val_mae}")

# Predecir con el modelo
predictions = model.predict(X_val)

# Desescalar las predicciones
predictions_descaled = scaler.inverse_transform(predictions)
y_val_descaled = scaler.inverse_transform(y_val.reshape(-1, 1))

# Visualizar resultados
import matplotlib.pyplot as plt

plt.figure(figsize=(12, 6))
plt.plot(y_val_descaled, label='True Values')
plt.plot(predictions_descaled, label='Predictions')
plt.legend()
plt.show()
